{
 "nbformat": 4,
 "nbformat_minor": 2,
 "metadata": {
  "language_info": {
   "name": "python",
   "codemirror_mode": {
    "name": "ipython",
    "version": 3
   },
   "version": "3.7.3-final"
  },
  "orig_nbformat": 2,
  "file_extension": ".py",
  "mimetype": "text/x-python",
  "name": "python",
  "npconvert_exporter": "python",
  "pygments_lexer": "ipython3",
  "version": 3,
  "kernelspec": {
   "name": "python37364bittrabalho0pipenve360fb1693c147e18a3ef0084ef9eca6",
   "display_name": "Python 3.7.3 64-bit ('trabalho-0': pipenv)"
  }
 },
 "cells": [
  {
   "cell_type": "code",
   "execution_count": 40,
   "metadata": {},
   "outputs": [],
   "source": [
    "import numpy as np\n",
    "from PIL import Image"
   ]
  },
  {
   "cell_type": "code",
   "execution_count": 41,
   "metadata": {},
   "outputs": [],
   "source": [
    "img_path = input(\"Enter with image's path: \")\n",
    "output_path = input(\"Enter with output path: \")"
   ]
  },
  {
   "cell_type": "code",
   "execution_count": 42,
   "metadata": {},
   "outputs": [],
   "source": [
    "img = np.array(Image.open(img_path))"
   ]
  },
  {
   "cell_type": "code",
   "execution_count": 43,
   "metadata": {},
   "outputs": [],
   "source": [
    "def bit_slice(img, bit):\n",
    "    return (bit & img)"
   ]
  },
  {
   "cell_type": "code",
   "execution_count": 44,
   "metadata": {},
   "outputs": [],
   "source": [
    "bit = 1\n",
    "# k <- nº of bits\n",
    "k = int(input('Nº of bits of the image: '))\n",
    "for i in range(0,k):\n",
    "    slice = bit_slice(img, bit)\n",
    "    bit = bit << 1\n",
    "    Image.fromarray(slice).save(output_path + '/slice' + str(i) + '.png')"
   ]
  }
 ]
}