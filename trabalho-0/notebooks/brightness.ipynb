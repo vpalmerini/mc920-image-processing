{
 "nbformat": 4,
 "nbformat_minor": 2,
 "metadata": {
  "language_info": {
   "name": "python",
   "codemirror_mode": {
    "name": "ipython",
    "version": 3
   },
   "version": "3.7.3-final"
  },
  "orig_nbformat": 2,
  "file_extension": ".py",
  "mimetype": "text/x-python",
  "name": "python",
  "npconvert_exporter": "python",
  "pygments_lexer": "ipython3",
  "version": 3,
  "kernelspec": {
   "name": "python37364bittrabalho0pipenve360fb1693c147e18a3ef0084ef9eca6",
   "display_name": "Python 3.7.3 64-bit ('trabalho-0': pipenv)"
  }
 },
 "cells": [
  {
   "cell_type": "code",
   "execution_count": 7,
   "metadata": {},
   "outputs": [],
   "source": [
    "import numpy as np\n",
    "from PIL import Image"
   ]
  },
  {
   "cell_type": "code",
   "execution_count": 8,
   "metadata": {},
   "outputs": [],
   "source": [
    "img_path = input(\"Enter with image's path: \")\n",
    "output_path = input(\"Enter with output path: \")"
   ]
  },
  {
   "cell_type": "code",
   "execution_count": 9,
   "metadata": {},
   "outputs": [],
   "source": [
    "img = np.array(Image.open(img_path))"
   ]
  },
  {
   "cell_type": "code",
   "execution_count": 10,
   "metadata": {},
   "outputs": [],
   "source": [
    "# normalizing from [0,255] to [0,1]\n",
    "img_norm_bin = img / 255"
   ]
  },
  {
   "cell_type": "code",
   "execution_count": 11,
   "metadata": {},
   "outputs": [],
   "source": [
    "# get matrix raised by power 1/gamma\n",
    "gamma = int(input(\"Enter the value of gamma: \"))\n",
    "img_gamma = img_norm_bin ** (1/gamma)"
   ]
  },
  {
   "cell_type": "code",
   "execution_count": 12,
   "metadata": {},
   "outputs": [],
   "source": [
    "# back to [0,255] interval\n",
    "img_brighten = 255 * img_gamma\n",
    "Image.fromarray(img_brighten).convert(\"L\").save(output_path)"
   ]
  }
 ]
}