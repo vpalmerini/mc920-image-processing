{
 "nbformat": 4,
 "nbformat_minor": 2,
 "metadata": {
  "language_info": {
   "name": "python",
   "codemirror_mode": {
    "name": "ipython",
    "version": 3
   },
   "version": "3.7.3-final"
  },
  "orig_nbformat": 2,
  "file_extension": ".py",
  "mimetype": "text/x-python",
  "name": "python",
  "npconvert_exporter": "python",
  "pygments_lexer": "ipython3",
  "version": 3,
  "kernelspec": {
   "name": "python37364bittrabalho0pipenve360fb1693c147e18a3ef0084ef9eca6",
   "display_name": "Python 3.7.3 64-bit ('trabalho-0': pipenv)"
  }
 },
 "cells": [
  {
   "cell_type": "code",
   "execution_count": 53,
   "metadata": {},
   "outputs": [],
   "source": [
    "import numpy as np\n",
    "from PIL import Image"
   ]
  },
  {
   "cell_type": "code",
   "execution_count": null,
   "metadata": {},
   "outputs": [],
   "source": [
    "img_path = input(\"Enter with image's path: \")\n",
    "output_path = input(\"Enter with output path: \")"
   ]
  },
  {
   "cell_type": "code",
   "execution_count": 54,
   "metadata": {},
   "outputs": [],
   "source": [
    "img = np.array(Image.open(img_path))"
   ]
  },
  {
   "cell_type": "code",
   "execution_count": 55,
   "metadata": {},
   "outputs": [],
   "source": [
    "# generating negative image\n",
    "img_neg = 255 - img\n",
    "Image.fromarray(img_neg).save(output_path + '/negative.png')"
   ]
  },
  {
   "cell_type": "code",
   "execution_count": 56,
   "metadata": {},
   "outputs": [],
   "source": [
    "# set intensity interval to [100,200]\n",
    "img_norm = (100/255) * (img + 255)\n",
    "Image.fromarray(img_norm).convert(\"L\").save(output_path + '/normalized.png')"
   ]
  },
  {
   "cell_type": "code",
   "execution_count": 57,
   "metadata": {},
   "outputs": [],
   "source": [
    "# invert columns from even rows\n",
    "img_even_row_inv = np.copy(img)\n",
    "img_even_row_inv[1::2, :] = img_even_row_inv[1::2, ::-1]\n",
    "Image.fromarray(img_even_row_inv).save(output_path + '/row_inverted.png')"
   ]
  },
  {
   "cell_type": "code",
   "execution_count": 58,
   "metadata": {},
   "outputs": [],
   "source": [
    "# mirror upper half on bottom half\n",
    "img_upper_half = img[:np.size(img, 0) // 2, :]\n",
    "img_bottom_half = np.flipud(img_upper_half)\n",
    "img_mirrored = np.concatenate((img_upper_half, img_bottom_half))\n",
    "Image.fromarray(img_mirrored).save(output_path + '/mirrored.png')"
   ]
  }
 ]
}