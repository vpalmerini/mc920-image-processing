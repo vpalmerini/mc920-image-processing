{
 "nbformat": 4,
 "nbformat_minor": 2,
 "metadata": {
  "language_info": {
   "name": "python",
   "codemirror_mode": {
    "name": "ipython",
    "version": 3
   },
   "version": "3.7.3-final"
  },
  "orig_nbformat": 2,
  "file_extension": ".py",
  "mimetype": "text/x-python",
  "name": "python",
  "npconvert_exporter": "python",
  "pygments_lexer": "ipython3",
  "version": 3,
  "kernelspec": {
   "name": "python37364bittrabalho0pipenve360fb1693c147e18a3ef0084ef9eca6",
   "display_name": "Python 3.7.3 64-bit ('trabalho-0': pipenv)"
  }
 },
 "cells": [
  {
   "cell_type": "code",
   "execution_count": 1,
   "metadata": {},
   "outputs": [],
   "source": [
    "import numpy as np\n",
    "from PIL import Image"
   ]
  },
  {
   "cell_type": "code",
   "execution_count": 2,
   "metadata": {},
   "outputs": [],
   "source": [
    "img_path = input(\"Enter with image's path: \")\n",
    "output_path = input(\"Enter with output path: \")"
   ]
  },
  {
   "cell_type": "code",
   "execution_count": 3,
   "metadata": {},
   "outputs": [],
   "source": [
    "img = np.array(Image.open(img_path))"
   ]
  },
  {
   "cell_type": "code",
   "execution_count": 4,
   "metadata": {},
   "outputs": [],
   "source": [
    "img_1 = img[0:64,:64]\n",
    "img_2 = img[0:64,64:128]\n",
    "img_3 = img[0:64,128:192]\n",
    "img_4 = img[0:64,192:256]\n",
    "\n",
    "img_5 = img[64:128,0:64]\n",
    "img_6 = img[64:128,64:128]\n",
    "img_7 = img[64:128,128:192]\n",
    "img_8 = img[64:128,192:256]\n",
    "\n",
    "img_9 = img[128:192,0:64]\n",
    "img_10 = img[128:192,64:128]\n",
    "img_11 = img[128:192,128:192]\n",
    "img_12 = img[128:192,192:256]\n",
    "\n",
    "img_13 = img[192:256,0:64]\n",
    "img_14 = img[192:256,64:128]\n",
    "img_15 = img[192:256,128:192]\n",
    "img_16 = img[192:256,192:256]"
   ]
  },
  {
   "cell_type": "code",
   "execution_count": 5,
   "metadata": {},
   "outputs": [],
   "source": [
    "mosaic_1 = np.concatenate((img_6, img_11, img_13, img_3), axis=1)\n",
    "mosaic_2 = np.concatenate((img_8, img_16, img_1, img_9), axis=1)\n",
    "mosaic_3 = np.concatenate((img_12, img_14, img_2, img_7), axis=1)\n",
    "mosaic_4 = np.concatenate((img_4, img_15, img_10, img_5), axis=1)\n",
    "\n",
    "mosaic = np.concatenate((mosaic_1, mosaic_2, mosaic_3, mosaic_4), axis=0)"
   ]
  },
  {
   "cell_type": "code",
   "execution_count": 6,
   "metadata": {},
   "outputs": [],
   "source": [
    "Image.fromarray(mosaic).convert(\"L\").save(output_path)"
   ]
  }
 ]
}