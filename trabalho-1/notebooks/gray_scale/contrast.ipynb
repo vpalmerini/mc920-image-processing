{
 "nbformat": 4,
 "nbformat_minor": 2,
 "metadata": {
  "language_info": {
   "name": "python",
   "codemirror_mode": {
    "name": "ipython",
    "version": 3
   },
   "version": "3.7.3-final"
  },
  "orig_nbformat": 2,
  "file_extension": ".py",
  "mimetype": "text/x-python",
  "name": "python",
  "npconvert_exporter": "python",
  "pygments_lexer": "ipython3",
  "version": 3,
  "kernelspec": {
   "name": "python37364bittrabalho1pipenvd075e2cb1c914b0baa4c9ea93a0341be",
   "display_name": "Python 3.7.3 64-bit ('trabalho-1': pipenv)"
  }
 },
 "cells": [
  {
   "cell_type": "code",
   "execution_count": 43,
   "metadata": {},
   "outputs": [],
   "source": [
    "import numpy as np\n",
    "from PIL import Image"
   ]
  },
  {
   "cell_type": "code",
   "execution_count": 44,
   "metadata": {},
   "outputs": [],
   "source": [
    "input_path = input(\"Enter with the input path: \")\n",
    "output_path = input(\"Enter with the output path: \")"
   ]
  },
  {
   "cell_type": "code",
   "execution_count": 45,
   "metadata": {},
   "outputs": [],
   "source": [
    "img = np.array(Image.open(input_path))"
   ]
  },
  {
   "cell_type": "code",
   "execution_count": 46,
   "metadata": {},
   "outputs": [],
   "source": [
    "# parameters\n",
    "L = int(input(\"Enter with the number of intensity levels: \"))\n",
    "a = int(input(\"Enter with the value of parameter 'a': \"))\n",
    "b = int(input(\"Enter with the value of parameter 'b': \"))\n",
    "alpha = float(input(\"Enter with the value of parameter alpha: \"))\n",
    "beta = float(input(\"Enter with the value of parameter beta: \"))\n",
    "gamma = float(input(\"Enter with the value of parameter gamma: \"))"
   ]
  },
  {
   "cell_type": "code",
   "execution_count": 47,
   "metadata": {},
   "outputs": [],
   "source": [
    "# contrast transformation\n",
    "def contrast(f, L, a, b, alpha, beta, gamma):\n",
    "    if (f >= 0 and f <= a):\n",
    "        return alpha * f\n",
    "    elif (f >= 0 and f <= b):\n",
    "        return (beta * (f - a)) + (alpha * a)\n",
    "    elif ( f >= 0 and f < L):\n",
    "        return (gamma * (f - b)) + (beta * (b - a)) + (alpha * a)\n",
    "    return f\n",
    ""
   ]
  },
  {
   "cell_type": "code",
   "execution_count": 48,
   "metadata": {},
   "outputs": [],
   "source": [
    "img_contr = np.empty(shape=(np.size(img, 0), np.size(img, 1)))\n",
    "# applying function\n",
    "for i in range(0, np.size(img, 0)):\n",
    "    for j in range(0, np.size(img, 1)):\n",
    "        img_contr[i][j] = contrast(img[i][j], L, a, b, alpha, beta, gamma)"
   ]
  },
  {
   "cell_type": "code",
   "execution_count": 49,
   "metadata": {},
   "outputs": [],
   "source": [
    "Image.fromarray(img_contr).convert('L').save(output_path + '/contrast.png')"
   ]
  }
 ]
}