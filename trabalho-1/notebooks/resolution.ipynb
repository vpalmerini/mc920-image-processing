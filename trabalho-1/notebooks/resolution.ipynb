{
 "nbformat": 4,
 "nbformat_minor": 2,
 "metadata": {
  "language_info": {
   "name": "python",
   "codemirror_mode": {
    "name": "ipython",
    "version": 3
   },
   "version": "3.7.3-final"
  },
  "orig_nbformat": 2,
  "file_extension": ".py",
  "mimetype": "text/x-python",
  "name": "python",
  "npconvert_exporter": "python",
  "pygments_lexer": "ipython3",
  "version": 3,
  "kernelspec": {
   "name": "python37364bittrabalho1pipenvd075e2cb1c914b0baa4c9ea93a0341be",
   "display_name": "Python 3.7.3 64-bit ('trabalho-1': pipenv)"
  }
 },
 "cells": [
  {
   "cell_type": "code",
   "execution_count": 1,
   "metadata": {},
   "outputs": [],
   "source": [
    "from PIL import Image"
   ]
  },
  {
   "cell_type": "code",
   "execution_count": 2,
   "metadata": {},
   "outputs": [],
   "source": [
    "input_path = input(\"Enter with the input path: \")\n",
    "output_path = input(\"Enter with the output path: \")"
   ]
  },
  {
   "cell_type": "code",
   "execution_count": 3,
   "metadata": {},
   "outputs": [],
   "source": [
    "img = Image.open(input_path)\n",
    "height = 512\n",
    "width = 512"
   ]
  },
  {
   "cell_type": "code",
   "execution_count": 4,
   "metadata": {},
   "outputs": [],
   "source": [
    "def reduce_resolution(img, r):\n",
    "    img_smaller = img.resize((r//2, r//2), resample=Image.BOX)\n",
    "    return img_smaller.resize((width,height), resample=Image.BOX)"
   ]
  },
  {
   "cell_type": "code",
   "execution_count": 5,
   "metadata": {},
   "outputs": [],
   "source": [
    "k = int(input(\"Nº of reductions: \"))"
   ]
  },
  {
   "cell_type": "code",
   "execution_count": 6,
   "metadata": {},
   "outputs": [],
   "source": [
    "r = 512\n",
    "for i in range(0, k):\n",
    "    img_resized = reduce_resolution(img,r)\n",
    "    img_resized.save(output_path + '/reduced' + str(r // 2) + 'elmo.png')\n",
    "    r = r // 2"
   ]
  }
 ]
}