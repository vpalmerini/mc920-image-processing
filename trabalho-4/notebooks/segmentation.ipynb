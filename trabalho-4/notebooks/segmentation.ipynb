{
 "cells": [
  {
   "cell_type": "code",
   "execution_count": 9,
   "metadata": {},
   "outputs": [],
   "source": [
    "import cv2\n",
    "import numpy as np\n",
    "from PIL import Image"
   ]
  },
  {
   "cell_type": "code",
   "execution_count": 10,
   "metadata": {},
   "outputs": [],
   "source": [
    "# input_path = input(\"Enter with the input path: \")\n",
    "# output_path = input(\"Enter with the output path: \")\n",
    "input_path = '../images/bitmap.pbm'\n",
    "output_path = '../outputs'"
   ]
  },
  {
   "cell_type": "code",
   "execution_count": 11,
   "metadata": {},
   "outputs": [
    {
     "output_type": "stream",
     "name": "stdout",
     "text": "1374\n2233\n"
    }
   ],
   "source": [
    "img = cv2.imread(input_path, 0)\n",
    "img = cv2.bitwise_not(img)\n",
    "print(len(img))\n",
    "print(len(img[0]))"
   ]
  },
  {
   "cell_type": "code",
   "execution_count": 12,
   "metadata": {},
   "outputs": [],
   "source": [
    "kernel_1 = np.ones((1,100), np.uint8)\n",
    "dilation_1 = cv2.dilate(img, kernel_1, iterations = 1)\n",
    "erosion_1 = cv2.erode(dilation_1, kernel_1, iterations = 1)"
   ]
  },
  {
   "cell_type": "code",
   "execution_count": 13,
   "metadata": {},
   "outputs": [],
   "source": [
    "kernel_2 = np.ones((200,1), np.uint8)\n",
    "dilation_2 = cv2.dilate(img, kernel_2, iterations = 1)\n",
    "erosion_2 = cv2.erode(dilation_2, kernel_2, iterations = 1)"
   ]
  },
  {
   "cell_type": "code",
   "execution_count": 14,
   "metadata": {},
   "outputs": [],
   "source": [
    "intersection = cv2.bitwise_and(erosion_1, erosion_2)"
   ]
  },
  {
   "cell_type": "code",
   "execution_count": 15,
   "metadata": {},
   "outputs": [],
   "source": [
    "kernel_3 = np.ones((1,30), np.uint8)\n",
    "closing = cv2.morphologyEx(intersection, cv2.MORPH_CLOSE, kernel_3)"
   ]
  },
  {
   "cell_type": "code",
   "execution_count": 16,
   "metadata": {},
   "outputs": [
    {
     "output_type": "stream",
     "name": "stdout",
     "text": "54\n[[0 0 0 ... 0 0 0]\n [0 0 0 ... 0 0 0]\n [0 0 0 ... 0 0 0]\n ...\n [0 0 0 ... 0 0 0]\n [0 0 0 ... 0 0 0]\n [0 0 0 ... 0 0 0]]\n54\n5\n[[      0       0    2233    1374 2177519]\n [   1039      28    1150      25   24201]\n [     32      36      42      21     866]\n [   1343     131       2       3       4]\n [    264     139     572     561  315070]\n [   1142     147    1046      40   26026]\n [   1142     198    1046      40   27655]\n [   1142     248     636      39   16418]\n [   1182     298    1007      39   27082]\n [   1142     348    1047      40   24980]\n [   1205     350       4       5      18]\n [   1144     399    1045      38   23916]\n [   2169     398       4       5      17]\n [   1143     448    1046      40   27645]\n [   1144     499    1046      40   25112]\n [   1146     548    1044      40   27850]\n [   1144     599    1046      39   25728]\n [   1144     649    1046      39   29589]\n [   1145     700     435      31   10046]\n [    478     734      12      20     122]\n [   1411     768     780      37   19093]\n [    362     771     367     349   21828]\n [   1186     771     102      36    2650]\n [   1411     815     261      37    7153]\n [   2028     855       1       1       1]\n [   1410     860     781      38   19602]\n [   1186     862     157      37    3384]\n [    615     900       6       8      43]\n [   1411     907     290      38    9325]\n [   1411     952     780      30   17480]\n [   1877     953       5       5      20]\n [   1187     955     183      36    5171]\n [    324     959      12      19      64]\n [   1413     999     274      38    8155]\n [   1411    1044     781      38   18713]\n [   1187    1046     181      37    4129]\n [    664    1052      11      19     114]\n [   1413    1092     289      37    9015]\n [   1648    1137       5       5      20]\n [   1412    1136     781      39   19180]\n [    502    1139      12      21     123]\n [   1188    1138     138      29    3543]\n [   1367    1148       1       7       7]\n [   1367    1159       1       7       7]\n [   1413    1182     782      39   19421]\n [    173    1186     914      33   17322]\n [    277    1189       4       3      11]\n [     40    1190      96      30    1355]\n [    522    1225      83      31    1547]\n [   1413    1227     780      39   21070]\n [   2004    1227       1       1       1]\n [   1879    1260       1       2       2]\n [   1413    1274     780      38   19083]\n [   1414    1321     384      37    9646]]\n54\n2\n[[1073.25145085  722.03458018]\n [1618.32862278   39.68889715]\n [  52.13510393   45.96420323]\n [1343.75        132.        ]\n [ 550.10087282  419.79903831]\n [1668.31138093  164.50303543]\n [1665.59302115  214.93823902]\n [1467.00274089  265.52533804]\n [1688.68200281  314.20356694]\n [1679.76733387  366.06617294]\n [1206.5         351.77777778]\n [1676.00351229  416.75915705]\n [2170.41176471  400.11764706]\n [1667.49130042  464.76042684]\n [1683.85544759  517.2359828 ]\n [1670.29231598  564.97978456]\n [1674.84444963  616.40294621]\n [1654.9944912   665.30099023]\n [1353.0820227   718.45530559]\n [ 483.54918033  744.3442623 ]\n [1816.45786414  785.34525742]\n [ 538.44607843  905.56221367]\n [1236.96226415  787.08037736]\n [1542.0184538   834.47057179]\n [2028.          855.        ]\n [1804.93403734  877.31660035]\n [1262.21217494  878.63947991]\n [ 617.72093023  903.27906977]\n [1556.90938338  924.86112601]\n [1802.62316934  969.6729405 ]\n [1879.1         954.95      ]\n [1279.05066718  969.19841423]\n [ 328.734375    971.015625  ]\n [1558.14763948 1017.46462293]\n [1807.38224764 1060.35750548]\n [1274.33276822 1062.3882296 ]\n [ 669.66666667 1061.50877193]\n [1558.99012757 1109.60144204]\n [1650.25       1139.25      ]\n [1803.07069864 1153.37898853]\n [ 507.83739837 1148.92682927]\n [1254.78154107 1152.77928309]\n [1367.         1151.        ]\n [1367.         1162.        ]\n [1786.58091756 1199.18582977]\n [ 620.03025055 1200.84718855]\n [ 278.63636364 1190.09090909]\n [  76.50332103 1203.80369004]\n [ 558.17905624 1241.9062702 ]\n [1779.6730897  1245.16886569]\n [2004.         1227.        ]\n [1879.         1260.5       ]\n [1823.18927842 1289.4606718 ]\n [1615.17914161 1336.58148455]]\n"
    }
   ],
   "source": [
    "num_labels, labels, stats, centroids = cv2.connectedComponentsWithStats(closing, 4, cv2.CV_32S)\n",
    "background = stats[0]\n",
    "print(num_labels)\n",
    "print(labels)\n",
    "print(len(stats))\n",
    "print(len(stats[0]))\n",
    "print(stats)\n",
    "print(len(centroids))\n",
    "print(len(centroids[0]))\n",
    "print(centroids)"
   ]
  }
 ],
 "metadata": {
  "language_info": {
   "codemirror_mode": {
    "name": "ipython",
    "version": 3
   },
   "file_extension": ".py",
   "mimetype": "text/x-python",
   "name": "python",
   "nbconvert_exporter": "python",
   "pygments_lexer": "ipython3",
   "version": "3.7.7-final"
  },
  "orig_nbformat": 2,
  "kernelspec": {
   "name": "python37764bittrabalho4pipenv581b42ffb7464239b91dda0198a5f452",
   "display_name": "Python 3.7.7 64-bit ('trabalho-4': pipenv)"
  }
 },
 "nbformat": 4,
 "nbformat_minor": 2
}